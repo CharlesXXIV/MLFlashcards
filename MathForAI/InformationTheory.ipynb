{
 "cells": [
  {
   "cell_type": "markdown",
   "metadata": {
    "slideshow": {
     "slide_type": "slide"
    }
   },
   "source": [
    "# Information theory"
   ]
  },
  {
   "cell_type": "markdown",
   "metadata": {
    "slideshow": {
     "slide_type": "slide"
    }
   },
   "source": [
    "## What is information theory?\n",
    "\n",
    "Information theory is a branch of applied mathematics that revolves around quantifying how much information is present in signal.\n",
    "\n",
    "The basic intuition behind information theory is that learning that an unlikely event has occured is more informative than learning that a likely event has occured"
   ]
  },
  {
   "cell_type": "markdown",
   "metadata": {
    "slideshow": {
     "slide_type": "slide"
    }
   },
   "source": [
    "## Self-information \n",
    "\n",
    "We define the __self-information__ of an event $X=x$, where $X$ is a random variable to be\n",
    "\n",
    "$I(X=x)=-\\log P(X=x)$\n",
    "\n",
    "If \\log is the natural algorithm, with the base $e$, the units of __self-information__ are called __nats__.\n",
    "If \\log is has the base 2, the units are called __bits__.\n",
    "\n",
    "The __self-information__ has the following properties:\n",
    "-  Likely event have low information content\n",
    "-  Less likely event have higher information content\n",
    "-  Independent event have additive information"
   ]
  },
  {
   "cell_type": "markdown",
   "metadata": {
    "slideshow": {
     "slide_type": "slide"
    }
   },
   "source": [
    "## Shannon entropy\n",
    "\n",
    "Self-information deals only with a single outcome. We can quantify the amount of uncertainty in an entire probability distribution using the __Shannon entropy__.\n",
    "\n",
    "$H(X)=\\mathbb{E}_{X\\sim P}[I(x)]=-\\mathbb{E}_{X\\sim P}[\\log P(x)]$"
   ]
  },
  {
   "cell_type": "code",
   "execution_count": 16,
   "metadata": {
    "slideshow": {
     "slide_type": "fragment"
    }
   },
   "outputs": [
    {
     "data": {
      "text/plain": [
       "Text(0,0.5,'entropy')"
      ]
     },
     "execution_count": 16,
     "metadata": {},
     "output_type": "execute_result"
    },
    {
     "data": {
      "image/png": "[encoded data removed]",
      "text/plain": [
       "<matplotlib.figure.Figure at 0x7fc5c6d72d68>"
      ]
     },
     "metadata": {},
     "output_type": "display_data"
    }
   ],
   "source": [
    "# Shannon entropy of a binary random variable\n",
    "\n",
    "import numpy as np\n",
    "import matplotlib.pyplot as plt\n",
    "%matplotlib inline\n",
    "\n",
    "p = np.linspace(0.001, 0.999, 100)\n",
    "entropy = -(1 - p)*np.log(1 - p) - p*np.log(p)\n",
    "\n",
    "plt.plot(p,entropy)\n",
    "plt.xlabel(\"p\")\n",
    "plt.ylabel(\"entropy\")"
   ]
  },
  {
   "cell_type": "markdown",
   "metadata": {
    "slideshow": {
     "slide_type": "slide"
    }
   },
   "source": [
    "## Cross-entropy\n",
    "\n",
    "If we have two separate probability distributions $P(X)$ and $Q(X)$ over the same random variable $X$, we can measure how different these two distributions are using the __Kullback-Leibler (KL) divergence__:\n",
    "\n",
    "$D_{KL}(P\\Vert Q)=\\mathbb{E}_{X\\sim P}\\left[ \\log\\dfrac{P(x)}{Q(x)}\\right]=\\mathbb{E}_{X\\sim P}[\\log P(x) - \\log Q(x)]$\n",
    "\n",
    "A quantity that is closely related to the KL divergence is the __cross-entropy__:\n",
    "\n",
    "$H(P,Q)=H(P)+D_{KL}(P\\Vert Q)$\n",
    "\n",
    "$H(P,Q)=-\\mathbb{E}_{X\\sim P}[\\log Q(x)]$\n",
    "\n",
    "Minimizing the cross-entropy with respect to $Q$ is equivalent to minimizing the KL divergence, because $Q$ doens not participate in the omitted term.\n",
    "\n"
   ]
  },
  {
   "cell_type": "code",
   "execution_count": null,
   "metadata": {
    "collapsed": true
   },
   "outputs": [],
   "source": []
  }
 ],
 "metadata": {
  "celltoolbar": "Slideshow",
  "kernelspec": {
   "display_name": "Python 3",
   "language": "python",
   "name": "python3"
  },
  "language_info": {
   "codemirror_mode": {
    "name": "ipython",
    "version": 3
   },
   "file_extension": ".py",
   "mimetype": "text/x-python",
   "name": "python",
   "nbconvert_exporter": "python",
   "pygments_lexer": "ipython3",
   "version": "3.6.3"
  }
 },
 "nbformat": 4,
 "nbformat_minor": 2
}
