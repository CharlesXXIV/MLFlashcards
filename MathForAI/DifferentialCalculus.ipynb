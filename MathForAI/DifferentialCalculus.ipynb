{
 "cells": [
  {
   "cell_type": "markdown",
   "metadata": {
    "slideshow": {
     "slide_type": "slide"
    }
   },
   "source": [
    "# Differential calculus\n"
   ]
  },
  {
   "cell_type": "markdown",
   "metadata": {
    "slideshow": {
     "slide_type": "slide"
    }
   },
   "source": [
    "## Derivative of a continuous function\n",
    "\n",
    "$f^{'}(x)=\\dfrac{df}{dx}=\\dfrac{d}{dx} f(x)= \\lim_{\\Delta x \\rightarrow 0} \\dfrac{f(x+\\Delta x)-f(x)}{\\Delta x}$\n",
    "\n",
    "For example\n",
    "\n",
    "if $f(x)=x^2$ then\n",
    "\n",
    "$\\dfrac{df}{dx}=\\lim_{\\Delta x \\rightarrow 0} \\dfrac{x^2+2x\\Delta x + (\\Delta x)^2 - x^2}{\\Delta x} $\n",
    "$ = \\lim_{\\Delta x \\rightarrow 0} \\dfrac{2x\\Delta x + (\\Delta x)^2}{\\Delta x}$\n",
    "$ = \\lim_{\\Delta x \\rightarrow 0} 2x+\\Delta x = 2x$\n"
   ]
  },
  {
   "cell_type": "markdown",
   "metadata": {
    "slideshow": {
     "slide_type": "slide"
    }
   },
   "source": [
    "## Derivatives of common functions encountered in machine learning\n",
    "\n",
    "\n",
    "| __Function__ $f(x)$ | __Derivative with respect to__ $x$ |\n",
    "|---------------------|------------------------------------|\n",
    "| $a$ | $0$ |\n",
    "| $x$ | $1$ |\n",
    "| $ax$ | $a$ |\n",
    "| $x^p$ | $px^{p-1}$ |\n",
    "| $a^x$ | $\\log(a)a^x$|\n",
    "| $\\log(x)$ | $1/x$ |\n",
    "| $\\log_a(x)$ | $1/(x\\log(a))$|\n",
    "| $\\sin(x)$ | $\\cos(x)$ |\n",
    "| $\\cos(x)$ | $-\\sin(x)$ |\n",
    "| $\\tan(x)$ | $\\sec^2(x)$|"
   ]
  },
  {
   "cell_type": "markdown",
   "metadata": {
    "slideshow": {
     "slide_type": "slide"
    }
   },
   "source": [
    "## Common differentiation rules\n",
    "\n",
    "__Sum Rule__\n",
    "\n",
    "$(f(x)+g(x))^{'}=f^{'}(x)+g^{'}(x)$\n",
    "\n",
    "__Difference Rule__\n",
    "\n",
    "$(f(x)-g(x))^{'}=f^{'}(x)-g^{'}(x)$\n",
    "\n",
    "__Product Rule__\n",
    "\n",
    "$(f(x)g(x))^{'}=f(x)g^{'}(x)+f^{'}(x)g(x)$\n",
    "\n",
    "__Quotient Rule__\n",
    "\n",
    "$\\left ( \\dfrac{f(x)}{g(x)}\\right )^{'}=\\dfrac{g(x)f^{'}(x)-f(x)g^{'}(x)}{(g(x))^2}$\n",
    "\n",
    "__Reciprical Rule__\n",
    "\n",
    "$\\left (\\dfrac{1}{f(x)} \\right)^{'}= -\\dfrac{f^{'}(x)}{(f(x))^2}$\n",
    "\n",
    "__And the rule to rule them all__\n",
    "\n",
    "$\\dfrac{d}{dx}f(g(h(x)))=\\dfrac{df}{dg}\\dfrac{dg}{dh}\\dfrac{dh}{dx}$"
   ]
  },
  {
   "cell_type": "markdown",
   "metadata": {
    "slideshow": {
     "slide_type": "slide"
    }
   },
   "source": [
    "## Partial derivates and gradients\n",
    "\n",
    "The derivative of a multivariable function is a vector - called gradient.\n",
    "\n",
    "$\\nabla f(x,y,z)=\\begin{bmatrix} \\dfrac{\\partial f}{\\partial x} \\\\ \\dfrac{\\partial f}{\\partial y} \\\\ \\dfrac{\\partial f}{\\partial z}  \\end{bmatrix} $"
   ]
  },
  {
   "cell_type": "markdown",
   "metadata": {
    "slideshow": {
     "slide_type": "slide"
    }
   },
   "source": [
    "## Second order partial derivatives\n",
    "\n",
    "\n",
    "$\\dfrac{\\partial^2f}{\\partial x^2}=\\dfrac{\\partial}{\\partial x} \\left ( \\dfrac{\\partial f}{\\partial x} \\right )$\n",
    "\n",
    "Given a multivariable function with two arguments, we can compute four distinct second order partial derivatives\n",
    "\n",
    "Let $f(x,y)$ be a function of $x,y\\in \\mathbb R$\n",
    "\n"
   ]
  },
  {
   "cell_type": "code",
   "execution_count": null,
   "metadata": {
    "collapsed": true
   },
   "outputs": [],
   "source": []
  }
 ],
 "metadata": {
  "celltoolbar": "Slideshow",
  "kernelspec": {
   "display_name": "Python 3",
   "language": "python",
   "name": "python3"
  },
  "language_info": {
   "codemirror_mode": {
    "name": "ipython",
    "version": 3
   },
   "file_extension": ".py",
   "mimetype": "text/x-python",
   "name": "python",
   "nbconvert_exporter": "python",
   "pygments_lexer": "ipython3",
   "version": "3.6.3"
  }
 },
 "nbformat": 4,
 "nbformat_minor": 2
}
