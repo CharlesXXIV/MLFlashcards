{
 "cells": [
  {
   "cell_type": "markdown",
   "metadata": {
    "slideshow": {
     "slide_type": "slide"
    }
   },
   "source": [
    "# Perceptron"
   ]
  },
  {
   "cell_type": "markdown",
   "metadata": {
    "slideshow": {
     "slide_type": "slide"
    }
   },
   "source": [
    "## Overview\n",
    "\n",
    "In 1943, Warren McCullock and Walter-Pits published the first concept of a simplified brain cell, the so-called __McCullock-Pitts (MCP)__ neuron _(A Logical Calculus of the Ideas Immanent in Nervous Activity, Bulleting of Mathematical Biophysics)_.\n",
    "\n",
    "A few years later, Frank Rosenblatt published the first concept of perceptron learning rule based on the MCP neuron model. With the perceptron rule, Rosenblatt proposed an algorithm that would automatically learn the optimal weigth coefficients that are then multiplied with the input features in order to make the decision of whether a neuron fires or not."
   ]
  },
  {
   "cell_type": "markdown",
   "metadata": {
    "slideshow": {
     "slide_type": "slide"
    }
   },
   "source": [
    "## Perceptron model\n",
    "\n",
    "Let $\\mathbf{x}$ be input features and $\\mathbf{w}$ a corresponding weight vector\n",
    "\n",
    "$\\mathbf{x}=\\begin{bmatrix}1 \\\\ x_1 \\\\ \\vdots \\\\ x_m \\end{bmatrix},\\,\\,\\,\\, \\mathbf{w}=\\begin{bmatrix}w_0 \\\\ w_1 \\\\ \\vdots \\\\ w_m \\end{bmatrix}$\n",
    "\n",
    "The perceptron calculates\n",
    "\n",
    "$\\hat{y}=\\phi(z)\\,\\,$ where $z=\\mathbf{w}^T \\mathbf{x},\\,\\,\\, and$\n",
    "\n",
    "$\\phi(z)=\\left\\{ \\begin{array}{} 1\\, if\\, z \\gt 0 \\\\ -1\\, otherwise\\end{array} \\right.$"
   ]
  },
  {
   "cell_type": "markdown",
   "metadata": {
    "slideshow": {
     "slide_type": "slide"
    }
   },
   "source": [
    "## Perceptron learning\n",
    "\n",
    "The perceptron learning rule:\n",
    "\n",
    "Let $\\mathcal{D}=\\{(\\mathbf{x}^{(1)},y^{(1)}),...,(\\mathbf{x}^{(m))},y^{(m)}\\}$, where $y\\in\\{-1,1\\}$ be a training dataset.\n",
    "\n",
    "`1. Initialize the weights to small random numbers`\n",
    "\n",
    "`2. For each training sample` $(\\mathbf{x}^{(i},y^{(i)})$:\n",
    "\n",
    "$\\Delta\\mathbf{w}=\\eta(y^{(i)}-\\hat{y}^{(i)})\\mathbf{x}^{(i)}$, where $\\eta$ is the __learning rate__\n",
    "\n",
    "$\\mathbf{w}=\\mathbf{w}+\\Delta\\mathbf{w}$\n",
    "\n",
    "`3. Repeat step 2 till convergence or for the set number of epochs`\n",
    "\n",
    "It is important to note that the convergence of the perceptron is only guaranteed if the two classes are linearly separable and the learning rate is sufficiently small. If the classes can't be separated by a linear decision boundry, you have to explicitly set the maximum number of passes and/or a threshold for the number of tolerated misclassifications. Otherwise the perceptron will never stop.\n",
    "\n",
    "\n",
    "\n"
   ]
  },
  {
   "cell_type": "markdown",
   "metadata": {
    "slideshow": {
     "slide_type": "slide"
    }
   },
   "source": [
    "## Code samples"
   ]
  },
  {
   "cell_type": "code",
   "execution_count": 112,
   "metadata": {
    "slideshow": {
     "slide_type": "fragment"
    }
   },
   "outputs": [
    {
     "name": "stderr",
     "output_type": "stream",
     "text": [
      "/home/jarekk/anaconda3/lib/python3.6/site-packages/sklearn/model_selection/_split.py:2026: FutureWarning: From version 0.21, test_size will always complement train_size unless both are specified.\n",
      "  FutureWarning)\n"
     ]
    },
    {
     "data": {
      "text/plain": [
       "Text(0,0.5,'petal length')"
      ]
     },
     "execution_count": 112,
     "metadata": {},
     "output_type": "execute_result"
    },
    {
     "data": {
      "image/png": "[encoded data removed]",
      "text/plain": [
       "<matplotlib.figure.Figure at 0x7f41e4971c50>"
      ]
     },
     "metadata": {},
     "output_type": "display_data"
    }
   ],
   "source": [
    "import numpy as np\n",
    "from sklearn import datasets\n",
    "from sklearn.model_selection import train_test_split\n",
    "import matplotlib.pyplot as plt\n",
    "%matplotlib inline\n",
    "\n",
    "\n",
    "#Load Iris dataset\n",
    "iris = datasets.load_iris()\n",
    "\n",
    "# Extract sepal length and petal length\n",
    "X = iris.data[:, [0,2]] \n",
    "y = iris.target\n",
    "\n",
    "# Filter for Iris=Setosa and Iris-veriscolour\n",
    "X = X[y != 2, :]\n",
    "y = y[y != 2]\n",
    "y = np.where(y == 0, -1, 1)\n",
    "\n",
    "# Generate 50 random samples\n",
    "X_train, _, y_train, _ = train_test_split(X, y, train_size=50, random_state=1, stratify=y)\n",
    "\n",
    "plt.scatter(x=X_train[:, 0], y=X_train[:, 1], c=y_train)\n",
    "plt.xlabel('sepal length')\n",
    "plt.ylabel('petal length')\n"
   ]
  },
  {
   "cell_type": "code",
   "execution_count": 113,
   "metadata": {
    "collapsed": true,
    "slideshow": {
     "slide_type": "fragment"
    }
   },
   "outputs": [],
   "source": [
    "# The class encapsulating perceptron training and inferencing\n",
    "\n",
    "class Perceptron(object):\n",
    "    \n",
    "    def __init__(self, eta=0.01, n_iter=50, random_state=1):\n",
    "        self.eta = eta\n",
    "        self.n_iter = n_iter\n",
    "        self.random_state = random_state\n",
    "\n",
    "    def fit(self, X, y):\n",
    "        \n",
    "        rgen = np.random.RandomState(self.random_state)\n",
    "        self.w_ = rgen.normal(loc=0.0, scale=0.01, size=1 + X.shape[1])\n",
    "        self.errors_ = []\n",
    "\n",
    "        for _ in range(self.n_iter):\n",
    "            errors = 0\n",
    "            for xi, target in zip(X, y):\n",
    "                update = self.eta * (target - self.predict(xi))\n",
    "                self.w_[1:] += update * xi\n",
    "                self.w_[0] += update\n",
    "                errors += int(update != 0.0)\n",
    "            self.errors_.append(errors)\n",
    "        return self\n",
    "    \n",
    "    def net_input(self, X):\n",
    "        \"\"\"Calculate net input\"\"\"\n",
    "        return np.dot(X, self.w_[1:]) + self.w_[0]\n",
    "\n",
    "    def predict(self, X):\n",
    "        \"\"\"Return class label after unit step\"\"\"\n",
    "        return np.where(self.net_input(X) >= 0.0, 1, -1)  "
   ]
  },
  {
   "cell_type": "code",
   "execution_count": 114,
   "metadata": {
    "collapsed": true,
    "slideshow": {
     "slide_type": "fragment"
    }
   },
   "outputs": [],
   "source": [
    "# A function for plotting decision regions\n",
    "\n",
    "from matplotlib.colors import ListedColormap\n",
    "\n",
    "\n",
    "def plot_decision_regions(X, y, classifier, resolution=0.02):\n",
    "\n",
    "    # setup marker generator and color map\n",
    "    markers = ('s', 'x', 'o', '^', 'v')\n",
    "    colors = ('red', 'blue', 'lightgreen', 'gray', 'cyan')\n",
    "    cmap = ListedColormap(colors[:len(np.unique(y))])\n",
    "\n",
    "    # plot the decision surface\n",
    "    x1_min, x1_max = X[:, 0].min() - 1, X[:, 0].max() + 1\n",
    "    x2_min, x2_max = X[:, 1].min() - 1, X[:, 1].max() + 1\n",
    "    xx1, xx2 = np.meshgrid(np.arange(x1_min, x1_max, resolution),\n",
    "                           np.arange(x2_min, x2_max, resolution))\n",
    "    Z = classifier.predict(np.array([xx1.ravel(), xx2.ravel()]).T)\n",
    "    Z = Z.reshape(xx1.shape)\n",
    "    plt.contourf(xx1, xx2, Z, alpha=0.3, cmap=cmap)\n",
    "    plt.xlim(xx1.min(), xx1.max())\n",
    "    plt.ylim(xx2.min(), xx2.max())\n",
    "\n",
    "    # plot class samples\n",
    "    for idx, cl in enumerate(np.unique(y)):\n",
    "        plt.scatter(x=X[y == cl, 0], \n",
    "                    y=X[y == cl, 1],\n",
    "                    alpha=0.8, \n",
    "                    c=colors[idx],\n",
    "                    marker=markers[idx], \n",
    "                    label=cl, \n",
    "                    edgecolor='black')\n",
    "        \n"
   ]
  },
  {
   "cell_type": "code",
   "execution_count": 115,
   "metadata": {
    "slideshow": {
     "slide_type": "fragment"
    }
   },
   "outputs": [
    {
     "data": {
      "image/png": "[encoded data removed]",
      "text/plain": [
       "<matplotlib.figure.Figure at 0x7f41e481c438>"
      ]
     },
     "metadata": {},
     "output_type": "display_data"
    }
   ],
   "source": [
    "# Train the perceptron model on IRIS\n",
    "\n",
    "ppn = Perceptron(eta=0.1, n_iter=20)\n",
    "\n",
    "ppn.fit(X_train, y_train)\n",
    "\n",
    "plt.plot(range(1, len(ppn.errors_) + 1), ppn.errors_, marker='o')\n",
    "plt.xlabel('Epochs')\n",
    "plt.ylabel('Number of updates')\n",
    "\n",
    "plt.show()"
   ]
  },
  {
   "cell_type": "code",
   "execution_count": 116,
   "metadata": {},
   "outputs": [
    {
     "data": {
      "image/png": "[encoded data removed]",
      "text/plain": [
       "<matplotlib.figure.Figure at 0x7f41e4895e10>"
      ]
     },
     "metadata": {},
     "output_type": "display_data"
    }
   ],
   "source": [
    "# Display the decision boundry\n",
    "\n",
    "plot_decision_regions(X_train, y_train, classifier=ppn)\n",
    "plt.xlabel('sepal length [cm]')\n",
    "plt.ylabel('petal length [cm]')\n",
    "plt.legend(loc='upper left')\n",
    "\n",
    "plt.show()\n"
   ]
  },
  {
   "cell_type": "code",
   "execution_count": null,
   "metadata": {
    "collapsed": true
   },
   "outputs": [],
   "source": []
  }
 ],
 "metadata": {
  "celltoolbar": "Slideshow",
  "kernelspec": {
   "display_name": "Python 3",
   "language": "python",
   "name": "python3"
  },
  "language_info": {
   "codemirror_mode": {
    "name": "ipython",
    "version": 3
   },
   "file_extension": ".py",
   "mimetype": "text/x-python",
   "name": "python",
   "nbconvert_exporter": "python",
   "pygments_lexer": "ipython3",
   "version": "3.6.3"
  }
 },
 "nbformat": 4,
 "nbformat_minor": 2
}
