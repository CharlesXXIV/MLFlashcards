{
 "cells": [
  {
   "cell_type": "markdown",
   "metadata": {
    "slideshow": {
     "slide_type": "slide"
    }
   },
   "source": [
    "# K-means clustering\n",
    "\n",
    "__K-means clustering__ is a simple and effective unsupervised machine learning algorithm allowing to find groups of similar observations. K-means is extremely easy to implement and computationally very efficient compared to other clustering algorithms\n",
    "\n",
    "K-means belongs to the category of prototype-based clustering. Prototype-based clustering means that cluster is represented by a prototype, which can either by the __centroid__ (average) of similar points with continuous features, or the __methoid__ (the most representativeor most frequently occuring point) for categorical features.\n",
    "\n"
   ]
  },
  {
   "cell_type": "markdown",
   "metadata": {
    "slideshow": {
     "slide_type": "slide"
    }
   },
   "source": [
    "## K-means algorithm\n",
    "\n",
    "1. Randomly pick $k$ centroids as initial cluster centers\n",
    "2. Assign each sample to the nearest centroid\n",
    "3. Move the centroids to the center of the samples that were assigned to it\n",
    "4. Repeat 2 and 3 untile the cluster assignment do not change or a user-defined tolerance or maximum number of iterations is reached."
   ]
  },
  {
   "cell_type": "markdown",
   "metadata": {
    "slideshow": {
     "slide_type": "slide"
    }
   },
   "source": [
    "## K-means as an optimization problem\n",
    "\n",
    "K-means can be described as a simple optimization problem.\n",
    "\n",
    "Let's define __cluster inertia__ or __Sum of Squared Errors (SSE)__ as:\n",
    "\n",
    "$SSE = \\sum_{i=1}^m\\sum_{j=1}^k w^{i,j}\\Vert \\mathbf x^{(i)} - \\boldsymbol \\mu^{(j)} \\Vert_2^2$\n",
    "\n",
    "Where $\\boldsymbol \\mu^{(j)}$ is the centroid for cluster $j$, and $w^{i,j}=1$ if the sample $\\mathbf x^{(i)}$ is in cluster $j$; $w^{i,j}=0$ otherwise.\n",
    "\n",
    "The goal of k-means is to minimize $SSE$ w.r.t. $\\boldsymbol \\mu$"
   ]
  },
  {
   "cell_type": "markdown",
   "metadata": {
    "slideshow": {
     "slide_type": "slide"
    }
   },
   "source": [
    "## K-means++\n",
    "\n",
    "__K-means++__ improves on K-means by using a more sophisticated technique to pick intial centroids. K-means++ attempts to place the intial centroids as far as possible from each other.\n",
    "\n"
   ]
  },
  {
   "cell_type": "code",
   "execution_count": null,
   "metadata": {
    "collapsed": true
   },
   "outputs": [],
   "source": []
  }
 ],
 "metadata": {
  "celltoolbar": "Slideshow",
  "kernelspec": {
   "display_name": "Python 3",
   "language": "python",
   "name": "python3"
  },
  "language_info": {
   "codemirror_mode": {
    "name": "ipython",
    "version": 3
   },
   "file_extension": ".py",
   "mimetype": "text/x-python",
   "name": "python",
   "nbconvert_exporter": "python",
   "pygments_lexer": "ipython3",
   "version": "3.6.3"
  }
 },
 "nbformat": 4,
 "nbformat_minor": 2
}
