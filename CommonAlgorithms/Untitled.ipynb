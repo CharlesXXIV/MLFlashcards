{
 "cells": [
  {
   "cell_type": "markdown",
   "metadata": {
    "slideshow": {
     "slide_type": "slide"
    }
   },
   "source": [
    "# Naive Bayes classifiers\n",
    "\n",
    "\n",
    "Naive Bayes classifier is a conditional probability model based on the assumption that the features are __conditionally independent__ given the class label. \n",
    "\n",
    "Under the assumption of conditional independence between the features:\n",
    "\n",
    "$p(\\mathbf x|y=c; \\boldsymbol \\Theta)=\\prod_{i=1}^n p(x_i|j=c; \\boldsymbol \\Theta)$\n",
    "\n",
    "The form of the class-conditional probability distribution depends on the type of each feature.\n",
    "\n",
    "After the possible distributions have been estimated (see the following flash cards) the predictions can be made using one of the following decision rules.\n",
    "\n",
    "__maximum likelihood (ML)__ - $\\qquad$ predict $\\underset{c}{\\arg\\max}\\, p(\\mathbf x|y=c)$\n",
    "\n",
    "__maximum a posteriori (MAP)__ - $\\qquad$ predict $\\underset{c}{\\arg\\max}\\, p(\\mathbf x|y=c)p(y)$\n",
    "\n",
    "__recalibrated likelihood__ - $\\qquad$ predict $\\underset{c}{\\arg\\max}\\, w_yp(\\mathbf x|y=c)$\n",
    "\n",
    "__ML__ classification is equivalent to __MAP__ with a uniform class distribution (prior). __Recalibrated likelihood__ generalises the other two in that it replaces a prior with a set of weights learned from the data."
   ]
  },
  {
   "cell_type": "markdown",
   "metadata": {
    "slideshow": {
     "slide_type": "slide"
    }
   },
   "source": [
    "## Training Naive Bayes\n",
    "\n",
    "\n",
    "\n",
    "Let $\\mathbf x\\in\\{1,...,K\\}^n$ be a vector of features, where $n$ is a number of features and $K$ is the number of values for each feature.\n",
    "\n",
    "......"
   ]
  },
  {
   "cell_type": "code",
   "execution_count": null,
   "metadata": {
    "collapsed": true
   },
   "outputs": [],
   "source": []
  }
 ],
 "metadata": {
  "celltoolbar": "Slideshow",
  "kernelspec": {
   "display_name": "Python 3",
   "language": "python",
   "name": "python3"
  },
  "language_info": {
   "codemirror_mode": {
    "name": "ipython",
    "version": 3
   },
   "file_extension": ".py",
   "mimetype": "text/x-python",
   "name": "python",
   "nbconvert_exporter": "python",
   "pygments_lexer": "ipython3",
   "version": "3.6.3"
  }
 },
 "nbformat": 4,
 "nbformat_minor": 2
}
