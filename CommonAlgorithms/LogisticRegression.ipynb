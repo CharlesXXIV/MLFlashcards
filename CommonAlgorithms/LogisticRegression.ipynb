{
 "cells": [
  {
   "cell_type": "markdown",
   "metadata": {
    "collapsed": true,
    "slideshow": {
     "slide_type": "slide"
    }
   },
   "source": [
    "# Logistic Regression\n",
    "\n"
   ]
  },
  {
   "cell_type": "markdown",
   "metadata": {
    "slideshow": {
     "slide_type": "slide"
    }
   },
   "source": [
    "## Overview\n",
    "\n",
    "Logistic regression is a classification model that is very easy to implement but performs very well on linearly separable classes. Logistic regression is a linear model for binary classification but can be extended to multiclass classification - OvR or multiple units methods."
   ]
  },
  {
   "cell_type": "markdown",
   "metadata": {
    "slideshow": {
     "slide_type": "slide"
    }
   },
   "source": [
    "## Logistic Regression Model\n",
    "\n",
    "Let $\\mathbf{x}$ be input features and $\\mathbf{w}$ and $b$ corresponding weight vector and bias:\n",
    "\n",
    "$\\mathbf{x}\\in\\mathbb{R}^n\\,\\,, \\mathbf{w}\\in\\mathbb{R}^n\\,\\,, b\\in\\mathbf{R}$\n",
    "\n",
    "\n",
    "Logistic regression outputs\n",
    "\n",
    "$\\sigma(z)=\\dfrac{1}{1+e^{-z}},\\,\\,$  where $z=\\mathbf{w}^T \\mathbf{x}+b$\n",
    "\n",
    "The output of the sigmoid function $\\sigma(z)$ can be interpreted as the probability of a given sample belonging to the positive class.\n",
    "\n",
    "$\\sigma(z)=P(y=1|\\mathbf{x};\\mathbf{w})$\n",
    "\n",
    "The predicted probability can then be converted into a binary outcome via a threshold function:\n",
    "\n",
    "\n",
    "$\\hat{y}=\\left\\{ \\begin{array}{} 1\\, if\\, \\sigma(z) \\geq 0.5 \\\\ 0\\, otherwise\\end{array} \\right.$\n",
    "\n",
    "\n",
    "Or the equivalent:\n",
    "\n",
    "$\\hat{y}=\\left\\{ \\begin{array}{} 1\\, if\\, z \\geq 0.0 \\\\ 0\\, otherwise\\end{array} \\right.$"
   ]
  },
  {
   "cell_type": "code",
   "execution_count": 7,
   "metadata": {
    "slideshow": {
     "slide_type": "fragment"
    }
   },
   "outputs": [
    {
     "data": {
      "image/png": "[encoded data removed]",
      "text/plain": [
       "<matplotlib.figure.Figure at 0x7fb288ca01d0>"
      ]
     },
     "metadata": {},
     "output_type": "display_data"
    }
   ],
   "source": [
    "import matplotlib.pyplot as plt\n",
    "import numpy as np\n",
    "%matplotlib inline\n",
    "\n",
    "def sigmoid(z):\n",
    "    return 1.0 / (1.0 + np.exp(-z))\n",
    "\n",
    "z = np.arange(-7, 7, 0.1)\n",
    "phi_z = sigmoid(z)\n",
    "\n",
    "plt.plot(z, phi_z)\n",
    "plt.axvline(0.0, color='k')\n",
    "plt.ylim(-0.1, 1.1)\n",
    "plt.xlabel('z')\n",
    "plt.ylabel('$\\sigma (z)$')\n",
    "\n",
    "# y axis ticks and gridline\n",
    "plt.yticks([0.0, 0.5, 1.0])\n",
    "ax = plt.gca()\n",
    "ax.yaxis.grid(True)\n"
   ]
  },
  {
   "cell_type": "markdown",
   "metadata": {
    "slideshow": {
     "slide_type": "slide"
    }
   },
   "source": [
    "## Logistic regression training\n",
    "\n",
    "The logistic regression model is trained using gradient descent by  minimizing the cost function $J(\\mathbf{\\Theta})$ w.r.t. $\\mathbf{\\Theta},\\,\\,$ where $\\mathbf{\\Theta}=\\{\\mathbf{w};\\,b\\}$\n",
    "\n",
    "Let \n",
    "\n",
    "$\\mathbf{X}=\\{\\mathbf{x}^{(1)},...,\\mathbf{x}^{(m)}\\}$, where $\\mathbf{x}\\in\\mathbb{R}^n$ \n",
    "\n",
    "$\\mathbf{Y}=\\{y^{(1)},...,y^{(m)}\\}$, where $y\\in\\{0,1\\}$ \n",
    "\n",
    "be a training dataset. \n",
    "\n",
    "The likelihood is defined as:\n",
    "\n",
    "$P(\\mathbf{Y}|\\mathbf{X};\\mathbf{\\Theta})$\n",
    "\n",
    "If the observations are independent and identically distributed then:\n",
    "\n",
    "$P(\\mathbf{Y}|\\mathbf{X};\\mathbf{\\Theta})=\\prod_{i=1}^m P(y^{(i)}|\\mathbf{x}^{(i)};\\mathbf{\\Theta})=\\prod_{i=1}^m (\\sigma(z^{(i)}))^{y^{(i)}} (1-\\sigma(z^{(i)}))^{1-y^{(i)}}$\n",
    "\n",
    "For numerical stability when calculating gradients it is better to optimize the (natural) log of this equation. So the final optimization objective is to minimize the cost function defined as negative log-likelihood, also referred to as binary cross-entropy.\n",
    "\n",
    "$\\mathbf{\\Theta_{ML}} = \\underset{\\mathbf{\\Theta}}\\arg\\min\\, J(\\mathbf{\\Theta})=\\underset{\\mathbf{\\Theta}}\\arg\\min\\, \\sum_{i=1}^m -y^{(i)}\\log(\\sigma(z^{(i)}))-(1-y^{(i)})\\log(1-\\sigma(z^{(i)}))$\n",
    "\n"
   ]
  },
  {
   "cell_type": "markdown",
   "metadata": {
    "slideshow": {
     "slide_type": "subslide"
    }
   },
   "source": [
    "## Logistic regression training\n",
    "\n",
    "\n",
    "The cost function can be minimized using gradient descent. \n",
    "\n",
    "$\\mathbf{\\Theta}\\leftarrow\\mathbf{\\Theta}-\\eta\\nabla_{\\mathbf{\\Theta}}J(\\mathbf{\\Theta})\\,\\,$ where $\\nabla_{\\mathbf{\\Theta}}J(\\mathbf{\\Theta})$ is a gradient of the cost function w.r.t $\\mathbf{\\Theta}$ and $\\eta$ is a learning rate.\n",
    "\n",
    "Let $L(\\mathbf{x}^{(i)}, y^{(i)}, \\mathbf{w})=-y^{(i)}\\log(\\sigma(z^{(i)}))-(1-y^{(i)})\\log(1-\\sigma(z^{(i)}))$ be a per-example loss. Then:\n",
    "\n",
    "\n",
    "$\\nabla_{\\mathbf{\\Theta}}J(\\mathbf{\\Theta})=\\frac{1}{m}\\sum_{i=1}^m \\nabla_{\\mathbf{\\Theta}} L(\\mathbf{x}^{(i)}, y^{(i)}, \\mathbf{\\Theta})=\\frac{1}{m}\\sum_{i=1}^m \\nabla L^{(i)}(\\mathbf{\\Theta})=\\frac{1}{m}\\sum_{i=1}^m \\nabla L^{(i)}(\\mathbf{w},b)$ \n",
    "\n",
    "\n",
    "\n",
    "$\\nabla L^{(i)}(\\mathbf w, b)=\\begin{bmatrix} \\dfrac{\\partial{L^{(i)}(\\mathbf{w},b)}}{\\partial w_1} \\\\ \\vdots \\\\ \\dfrac{\\partial{L^{(i)}(\\mathbf{w},b)}}{\\partial w_n} \\\\ \\dfrac{\\partial L^{(i)}(\\mathbf{w},b)}{\\partial b} \\end{bmatrix} $\n",
    "\n",
    "To calculate partial derivates you can apply the chain rule:\n",
    "\n",
    "Let $a^{(i)}=\\sigma( z^{(i)})$\n",
    "\n",
    "$\\dfrac{\\partial L^{(i)}}{\\partial w_j}=\\dfrac{\\partial L^{(i)}}{\\partial a^{(i)}} \\dfrac{\\partial a^{(i)}}{\\partial z^{(i)}} \\dfrac{\\partial z^{(i)}}{\\partial w_{j}}$\n",
    "\n",
    "$\\dfrac{\\partial L^{(i)}}{\\partial a}=-\\dfrac{y^{(i)}}{a^{(i)}}+\\dfrac{1-y^{(i)}}{1-a^{(i)}},\\,\\,\\,\\,\n",
    "\\dfrac{\\partial a^{(i)}}{\\partial z^{(i)}}=a^{(i)}(1-a^{(i)}),\\,\\,\\,\\,\\,\n",
    "\\dfrac{\\partial z^{(i)}}{\\partial w_j}= x_j^{(i)},\\,\\,\\,\\,\n",
    "\\dfrac{\\partial z^{(i)}}{\\partial b}= 1$\n",
    "\n",
    "Which yields\n",
    "\n",
    "$\\dfrac{\\partial L^{(i)}}{\\partial w_j}=(a^{(i)}-y^{(i)})x_j^{(i)},\\,\\,\\,\n",
    "\\dfrac{\\partial L^{(i)}}{\\partial b}=a^{(i)}-y^{(i)}$\n"
   ]
  },
  {
   "cell_type": "code",
   "execution_count": null,
   "metadata": {
    "collapsed": true,
    "slideshow": {
     "slide_type": "fragment"
    }
   },
   "outputs": [],
   "source": []
  }
 ],
 "metadata": {
  "celltoolbar": "Slideshow",
  "kernelspec": {
   "display_name": "Python 3",
   "language": "python",
   "name": "python3"
  },
  "language_info": {
   "codemirror_mode": {
    "name": "ipython",
    "version": 3
   },
   "file_extension": ".py",
   "mimetype": "text/x-python",
   "name": "python",
   "nbconvert_exporter": "python",
   "pygments_lexer": "ipython3",
   "version": "3.6.3"
  }
 },
 "nbformat": 4,
 "nbformat_minor": 2
}
