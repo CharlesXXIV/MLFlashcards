{
 "cells": [
  {
   "cell_type": "markdown",
   "metadata": {
    "slideshow": {
     "slide_type": "slide"
    }
   },
   "source": [
    "# Sequence models"
   ]
  },
  {
   "cell_type": "markdown",
   "metadata": {
    "slideshow": {
     "slide_type": "slide"
    }
   },
   "source": [
    "## Basic RNN\n",
    "\n",
    "![RNN](images/RNN.PNG)\n",
    "\n",
    "$\\mathbf h^{\\langle t \\rangle}= g(\\mathbf W_{xh}\\mathbf x^{\\langle t \\rangle} + \\mathbf W_{hh}\\mathbf h^{\\langle t-1 \\rangle} + \\mathbf b)$\n",
    "\n",
    "Or when using concatenated matrix $\\mathbf h^{\\langle t \\rangle} =g \\left ( [\\mathbf W_{xh}; \\mathbf W_{hh}]\\begin{bmatrix}\\mathbf x_{\\langle t \\rangle} \\\\  \\mathbf  h^{\\langle t-1 \\rangle} \\end{bmatrix} + \\mathbf b \\right )$"
   ]
  },
  {
   "cell_type": "markdown",
   "metadata": {
    "slideshow": {
     "slide_type": "slide"
    }
   },
   "source": [
    "## Vanishing gradient problem\n",
    "\n",
    "Basic RNNs suffer from the vanishing gradient problem so we tend to use RNN architectures build out of LSTM and GRU cells"
   ]
  },
  {
   "cell_type": "markdown",
   "metadata": {
    "slideshow": {
     "slide_type": "slide"
    }
   },
   "source": [
    "## LSTM\n",
    "\n",
    "![LSTM](images/LSTM.PNG)\n",
    "\n",
    "\n"
   ]
  },
  {
   "cell_type": "markdown",
   "metadata": {
    "collapsed": true,
    "slideshow": {
     "slide_type": "slide"
    }
   },
   "source": [
    "$\\Gamma_f = \\sigma(\\mathbf W_{xf} \\mathbf x^{\\langle t \\rangle} + \\mathbf W_{hf} \\mathbf h^{\\langle t-1 \\rangle} + \\mathbf b_f)$\n",
    "\n",
    "$\\Gamma_i = \\sigma(\\mathbf W_{xi} \\mathbf x^{\\langle t \\rangle} + \\mathbf W_{hi} \\mathbf h^{\\langle t-1 \\rangle} + \\mathbf b_i)$\n",
    "\n",
    "$\\Gamma_o = \\sigma(\\mathbf W_{xo} \\mathbf x^{\\langle t \\rangle} + \\mathbf W_{ho} \\mathbf h^{\\langle t-1 \\rangle} + \\mathbf b_o)$\n",
    "\n",
    "$\\mathbf g = \\tanh (\\mathbf W_{xg} \\mathbf x^{\\langle t \\rangle} + \\mathbf W_{go} \\mathbf h^{\\langle t-1 \\rangle} + \\mathbf b_g)$\n",
    "\n",
    "$\\mathbf C^{\\langle t \\rangle}=(\\mathbf C^{\\langle t-1 \\rangle}) \\odot \\Gamma_f) \\oplus (\\mathbf g \\odot \\Gamma_i)$\n",
    "\n",
    "$\\mathbf h^{\\langle t \\rangle}= \\Gamma_o \\odot \\tanh (\\mathbf C^{\\langle t \\rangle})$\n",
    "\n"
   ]
  },
  {
   "cell_type": "code",
   "execution_count": null,
   "metadata": {
    "collapsed": true
   },
   "outputs": [],
   "source": []
  }
 ],
 "metadata": {
  "celltoolbar": "Slideshow",
  "kernelspec": {
   "display_name": "Python 3",
   "language": "python",
   "name": "python3"
  },
  "language_info": {
   "codemirror_mode": {
    "name": "ipython",
    "version": 3
   },
   "file_extension": ".py",
   "mimetype": "text/x-python",
   "name": "python",
   "nbconvert_exporter": "python",
   "pygments_lexer": "ipython3",
   "version": "3.6.3"
  }
 },
 "nbformat": 4,
 "nbformat_minor": 2
}
